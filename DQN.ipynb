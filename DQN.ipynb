{
 "cells": [
  {
   "cell_type": "code",
   "execution_count": 1,
   "metadata": {
    "collapsed": true
   },
   "outputs": [
    {
     "name": "stderr",
     "output_type": "stream",
     "text": [
      "/Users/limingxuan/opt/anaconda3/lib/python3.9/site-packages/matplotlib/__init__.py:152: DeprecationWarning: distutils Version classes are deprecated. Use packaging.version instead.\n",
      "  if LooseVersion(module.__version__) < minver:\n",
      "/Users/limingxuan/opt/anaconda3/lib/python3.9/site-packages/setuptools/_distutils/version.py:346: DeprecationWarning: distutils Version classes are deprecated. Use packaging.version instead.\n",
      "  other = LooseVersion(other)\n"
     ]
    }
   ],
   "source": [
    "import random\n",
    "import gym\n",
    "import numpy as np\n",
    "import collections\n",
    "from tqdm import tqdm\n",
    "import torch\n",
    "import torch.nn.functional as F\n",
    "import matplotlib.pyplot as plt\n",
    "import rl_utils"
   ]
  },
  {
   "cell_type": "code",
   "execution_count": 24,
   "outputs": [],
   "source": [
    "class ReplayBuffer:\n",
    "    ''' 经验回放池 '''\n",
    "    def __init__(self, capacity):\n",
    "        self.buffer = collections.deque(maxlen=capacity)\n",
    "\n",
    "    def add(self, state, action, reward, next_state, done):  # 将数据加入buffer\n",
    "        self.buffer.append((state,action,reward,next_state,done))\n",
    "\n",
    "    def sample(self, batch_size):  # 从buffer中采样数据,数量为batch_size\n",
    "        transition = random.sample(self.buffer,batch_size)\n",
    "        state,action,reward,next_state,done = zip(*transition)  #用于将迭代器解压缩为多个独立的迭代器\n",
    "        return np.array(state),action,reward,np.array(next_state),done\n",
    "\n",
    "    def size(self):  # 目前buffer中数据的数量\n",
    "        return len(self.buffer)"
   ],
   "metadata": {
    "collapsed": false,
    "pycharm": {
     "name": "#%%\n"
    }
   }
  },
  {
   "cell_type": "code",
   "execution_count": 37,
   "outputs": [],
   "source": [
    "#基于非图像的状态输入\n",
    "class Qnet(torch.nn.Module):\n",
    "    # 只有一层隐藏层的Q网络\n",
    "    def __init__(self,dim_state,dim_hidden,dim_action):\n",
    "        super(Qnet,self).__init__()\n",
    "        self.fc1 = torch.nn.Linear(dim_state,dim_hidden)\n",
    "        self.fc2 = torch.nn.Linear(dim_hidden,dim_action)\n",
    "\n",
    "    def forward(self,x):\n",
    "        x = F.relu(self.fc1(x))\n",
    "        return self.fc2(x)"
   ],
   "metadata": {
    "collapsed": false,
    "pycharm": {
     "name": "#%%\n"
    }
   }
  },
  {
   "cell_type": "code",
   "execution_count": 38,
   "outputs": [],
   "source": [
    "class DQN:\n",
    "    ''' DQN算法 '''\n",
    "    def __init__(self, dim_state,dim_hidden,dim_action,lr,gamma,epsilon,target_update,device):\n",
    "        self.dim_state = dim_state\n",
    "        self.dim_action = dim_action\n",
    "        self.q_net = Qnet(dim_state, dim_hidden, dim_action).to(device)\n",
    "        self.target_q_net = Qnet(dim_state, dim_hidden, dim_action).to(device)\n",
    "        self.optimizer = torch.optim.Adam(self.q_net.parameters(),lr=lr)\n",
    "        self.gamma = gamma\n",
    "        self.epsilon = epsilon\n",
    "        self.target_update = target_update\n",
    "        self.count = 0\n",
    "        self.device = device\n",
    "\n",
    "    def take_action(self, state):  # epsilon-贪婪策略采取动作\n",
    "        if np.random.random() < self.epsilon:\n",
    "            action = np.random.randint(self.dim_action)\n",
    "        else:\n",
    "            state = torch.tensor([state],dtype=torch.float).to(device)\n",
    "            action = self.q_net(state).argmax().item()\n",
    "        return action\n",
    "\n",
    "    def update(self, transition_dict):\n",
    "        states = torch.tensor(transition_dict['states'],dtype=torch.float).to(self.device)\n",
    "        actions = torch.tensor(transition_dict['actions']).view(-1,1).to(self.device)\n",
    "        rewards = torch.tensor(transition_dict['rewards'],dtype=torch.float).view(-1,1).to(self.device)\n",
    "        next_states = torch.tensor(transition_dict['next_states'],dtype=torch.float).to(self.device)\n",
    "        dones = torch.tensor(transition_dict['dones'],dtype=torch.float).view(-1,1).to(device)\n",
    "\n",
    "        q_vals = self.q_net(states).gather(1,actions)\n",
    "        next_q_max_vals = self.target_q_net(next_states).max(1)[0].view(-1,1)\n",
    "        q_targets = rewards + gamma*next_q_max_vals*(1-dones)\n",
    "        dqn_loss = torch.mean(F.mse_loss(q_vals,q_targets))\n",
    "        self.optimizer.zero_grad()\n",
    "        dqn_loss.backward()\n",
    "        self.optimizer.step()\n",
    "\n",
    "        if self.count%self.target_update == 0:\n",
    "            self.target_q_net.load_state_dict(self.q_net.state_dict())\n",
    "\n",
    "        self.count += 1"
   ],
   "metadata": {
    "collapsed": false,
    "pycharm": {
     "name": "#%%\n"
    }
   }
  },
  {
   "cell_type": "code",
   "execution_count": 39,
   "outputs": [
    {
     "name": "stderr",
     "output_type": "stream",
     "text": [
      "Iteration 0: 100%|██████████| 50/50 [00:00<00:00, 238.20it/s, episode=50, return=9.100]\n",
      "Iteration 1: 100%|██████████| 50/50 [00:01<00:00, 25.93it/s, episode=100, return=22.400]\n",
      "Iteration 2: 100%|██████████| 50/50 [00:06<00:00,  7.58it/s, episode=150, return=100.800]\n",
      "Iteration 3: 100%|██████████| 50/50 [00:18<00:00,  2.67it/s, episode=200, return=191.300]\n",
      "Iteration 4: 100%|██████████| 50/50 [00:35<00:00,  1.39it/s, episode=250, return=196.400]\n",
      "Iteration 5: 100%|██████████| 50/50 [00:20<00:00,  2.48it/s, episode=300, return=198.900]\n",
      "Iteration 6: 100%|██████████| 50/50 [00:19<00:00,  2.62it/s, episode=350, return=198.300]\n",
      "Iteration 7: 100%|██████████| 50/50 [00:18<00:00,  2.74it/s, episode=400, return=185.700]\n",
      "Iteration 8: 100%|██████████| 50/50 [00:18<00:00,  2.70it/s, episode=450, return=200.000]\n",
      "Iteration 9: 100%|██████████| 50/50 [00:19<00:00,  2.58it/s, episode=500, return=200.000]\n"
     ]
    }
   ],
   "source": [
    "lr = 2e-3\n",
    "num_episodes = 500\n",
    "hidden_dim = 128\n",
    "gamma = 0.98\n",
    "epsilon = 0.01\n",
    "target_update = 10\n",
    "buffer_size = 10000\n",
    "minimal_size = 500\n",
    "batch_size = 64\n",
    "device = torch.device(\"cuda\") if torch.cuda.is_available() else torch.device(\n",
    "    \"cpu\")\n",
    "\n",
    "env_name = 'CartPole-v0'\n",
    "env = gym.make(env_name)\n",
    "random.seed(0)\n",
    "np.random.seed(0)\n",
    "env.seed(0)     #gym需要在0.25以下\n",
    "torch.manual_seed(0)\n",
    "replay_buffer = ReplayBuffer(buffer_size)\n",
    "state_dim = env.observation_space.shape[0]\n",
    "action_dim = env.action_space.n\n",
    "agent = DQN(state_dim, hidden_dim, action_dim, lr, gamma, epsilon,\n",
    "            target_update, device)\n",
    "\n",
    "return_list = []\n",
    "for i in range(10):\n",
    "    with tqdm(total=int(num_episodes / 10), desc='Iteration %d' % i) as pbar:\n",
    "        for i_episode in range(int(num_episodes / 10)):\n",
    "            episode_return = 0\n",
    "            env.reset()\n",
    "            state = env.reset()\n",
    "            done = False\n",
    "            while not done:\n",
    "                action = agent.take_action(state)\n",
    "                next_state, reward, done, _ = env.step(action)\n",
    "                replay_buffer.add(state,action,reward,next_state,done)\n",
    "                state = next_state\n",
    "                episode_return += reward\n",
    "                if replay_buffer.size() > minimal_size:\n",
    "                    b_s,b_a,b_r,b_ns,b_d = replay_buffer.sample(batch_size)\n",
    "                    transition_dict = {\n",
    "                        'states':b_s,\n",
    "                        'actions':b_a,\n",
    "                        'rewards':b_r,\n",
    "                        'next_states':b_ns,\n",
    "                        'dones':b_d\n",
    "                    }\n",
    "                    agent.update(transition_dict)\n",
    "            return_list.append(episode_return)\n",
    "            if (i_episode+1)%10 == 0:\n",
    "                pbar.set_postfix({\n",
    "                    'episode':'%d'%(num_episodes/10 * i + i_episode + 1),\n",
    "                    'return':'%.3f'%np.mean(return_list[-10:])\n",
    "                })\n",
    "            pbar.update(1)"
   ],
   "metadata": {
    "collapsed": false,
    "pycharm": {
     "name": "#%%\n"
    }
   }
  },
  {
   "cell_type": "code",
   "execution_count": 30,
   "outputs": [
    {
     "data": {
      "text/plain": "<Figure size 432x288 with 1 Axes>",
      "image/png": "[encoded data removed]"
     },
     "metadata": {
      "needs_background": "light"
     },
     "output_type": "display_data"
    },
    {
     "data": {
      "text/plain": "<Figure size 432x288 with 1 Axes>",
      "image/png": "[encoded data removed]"
     },
     "metadata": {
      "needs_background": "light"
     },
     "output_type": "display_data"
    }
   ],
   "source": [
    "episodes_list = list(range(len(return_list)))\n",
    "plt.plot(episodes_list, return_list)\n",
    "plt.xlabel('Episodes')\n",
    "plt.ylabel('Returns')\n",
    "plt.title('DQN on {}'.format(env_name))\n",
    "plt.show()\n",
    "\n",
    "mv_return = rl_utils.moving_average(return_list, 9)\n",
    "plt.plot(episodes_list, mv_return)\n",
    "plt.xlabel('Episodes')\n",
    "plt.ylabel('Returns')\n",
    "plt.title('DQN on {}'.format(env_name))\n",
    "plt.show()"
   ],
   "metadata": {
    "collapsed": false,
    "pycharm": {
     "name": "#%%\n"
    }
   }
  },
  {
   "cell_type": "code",
   "execution_count": null,
   "outputs": [],
   "source": [],
   "metadata": {
    "collapsed": false,
    "pycharm": {
     "name": "#%%\n"
    }
   }
  }
 ],
 "metadata": {
  "kernelspec": {
   "display_name": "Python 3",
   "language": "python",
   "name": "python3"
  },
  "language_info": {
   "codemirror_mode": {
    "name": "ipython",
    "version": 2
   },
   "file_extension": ".py",
   "mimetype": "text/x-python",
   "name": "python",
   "nbconvert_exporter": "python",
   "pygments_lexer": "ipython2",
   "version": "2.7.6"
  }
 },
 "nbformat": 4,
 "nbformat_minor": 0
}